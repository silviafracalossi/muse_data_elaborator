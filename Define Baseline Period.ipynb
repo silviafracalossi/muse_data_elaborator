{
 "cells": [
  {
   "cell_type": "markdown",
   "metadata": {},
   "source": [
    "## Define Baseline Period"
   ]
  },
  {
   "cell_type": "code",
   "execution_count": null,
   "metadata": {},
   "outputs": [],
   "source": [
    "import numpy as np\n",
    "import pandas as pd\n",
    "from bokeh.plotting import figure, show, output_file, save, curdoc\n",
    "from bokeh.models import ColumnDataSource, HoverTool, NumeralTickFormatter, Title\n",
    "from bokeh.models.widgets import Select\n",
    "from bokeh.layouts import column, row, gridplot\n",
    "from datetime import datetime as dt\n",
    "from math import pi, sqrt\n",
    "import os\n",
    "import csv\n",
    "import statistics"
   ]
  },
  {
   "cell_type": "markdown",
   "metadata": {},
   "source": [
    "### Loads the files"
   ]
  },
  {
   "cell_type": "code",
   "execution_count": null,
   "metadata": {},
   "outputs": [],
   "source": [
    "# 1. Load the dato into dataframe\n",
    "def read_file(file_name):\n",
    "    my_absolute_dirpath = os.path.abspath(os.path.dirname(file_name))\n",
    "    file_path = my_absolute_dirpath+\"\\\\aResults\\\\Baseline\\\\\"+file_name\n",
    "    df = pd.read_csv(file_path, sep=\",\")\n",
    "    return df"
   ]
  },
  {
   "cell_type": "code",
   "execution_count": null,
   "metadata": {},
   "outputs": [],
   "source": [
    "# 1. Loads all the files\n",
    "def load_all_files():\n",
    "    \n",
    "    baseline_dfs = []\n",
    "    \n",
    "    for participant in ['01', '02', '04', '05', '06']:\n",
    "        for i in range(1,4):\n",
    "            file_name = 'baseline_'+participant+'_'+str(i)+'.csv'\n",
    "            baseline_dfs.append(read_file(file_name))\n",
    "            \n",
    "    return baseline_dfs"
   ]
  },
  {
   "cell_type": "markdown",
   "metadata": {},
   "source": [
    "### Calculates the best baseline"
   ]
  },
  {
   "cell_type": "code",
   "execution_count": null,
   "metadata": {},
   "outputs": [],
   "source": [
    "# Method which defines the best window\n",
    "def relaxed_window(baseline_dfs):\n",
    "    \n",
    "    # Defining variable for the windows comparison\n",
    "    min_sum = 1000\n",
    "    min_second = 60\n",
    "    \n",
    "    # Iterating through the windows\n",
    "    for second in range (0, 50):\n",
    "        \n",
    "        # Defining sum of all ratios in given window\n",
    "        mean_sum = 0\n",
    "     \n",
    "        # Iterating through the baselines\n",
    "        for df_baseline in baseline_dfs:\n",
    "            \n",
    "            # Casting timestemp as a datetime\n",
    "            df_baseline['TimeStamp'] = pd.to_datetime(df_baseline['TimeStamp'], errors='coerce')\n",
    "\n",
    "            # Defining start_timestamp and end_timestamp\n",
    "            start_timestamp = df_baseline.iloc[0]['TimeStamp'] + pd.Timedelta(seconds=second)\n",
    "            end_timestamp = start_timestamp + pd.Timedelta(seconds=10)\n",
    "\n",
    "            # Defining the window\n",
    "            df_ten_seconds_window = df_baseline[df_baseline['TimeStamp'] >= start_timestamp]\n",
    "            df_ten_seconds_window = df_ten_seconds_window[df_ten_seconds_window['TimeStamp'] < end_timestamp]\n",
    "\n",
    "            # Calculating the baseline\n",
    "            first_ratio_mean = df_ten_seconds_window['First_Ratio'].mean()\n",
    "            second_ratio_mean = df_ten_seconds_window['Second_Ratio'].mean()\n",
    "\n",
    "            mean_sum = mean_sum + first_ratio_mean + second_ratio_mean\n",
    "\n",
    "        # Comparing minimum value\n",
    "        if mean_sum < min_sum:\n",
    "            min_sum = mean_sum\n",
    "            min_second = second\n",
    "            \n",
    "        #print(\"Second: \" +str(second)+\", sum of ratios: \"+str(mean_sum)+\". Best value at second: \"+str(min_second)+\", sum: \"+str(min_sum))\n",
    "\n",
    "    return min_second, min_sum"
   ]
  },
  {
   "cell_type": "code",
   "execution_count": null,
   "metadata": {},
   "outputs": [],
   "source": [
    "# Execution\n",
    "baseline_dfs = load_all_files()\n",
    "second, sum = relaxed_window(baseline_dfs)\n",
    "print(\"Best result: Second \"+str(second)+\" with value \"+str(sum))"
   ]
  },
  {
   "cell_type": "code",
   "execution_count": null,
   "metadata": {},
   "outputs": [],
   "source": []
  }
 ],
 "metadata": {
  "kernelspec": {
   "display_name": "Python 3",
   "language": "python",
   "name": "python3"
  },
  "language_info": {
   "codemirror_mode": {
    "name": "ipython",
    "version": 3
   },
   "file_extension": ".py",
   "mimetype": "text/x-python",
   "name": "python",
   "nbconvert_exporter": "python",
   "pygments_lexer": "ipython3",
   "version": "3.7.3"
  }
 },
 "nbformat": 4,
 "nbformat_minor": 2
}
